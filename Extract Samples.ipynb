{
 "cells": [
  {
   "cell_type": "markdown",
   "metadata": {},
   "source": [
    "# Extract Samples"
   ]
  },
  {
   "cell_type": "code",
   "execution_count": 7,
   "metadata": {},
   "outputs": [],
   "source": [
    "import numpy as np\n",
    "\n",
    "# SPECIFY REDSHIFTS,\n",
    "redshifts = [0.0, 0.5, 1.0, 1.5, 2.0]"
   ]
  },
  {
   "cell_type": "markdown",
   "metadata": {},
   "source": [
    "# Creating Samples"
   ]
  },
  {
   "cell_type": "code",
   "execution_count": null,
   "metadata": {},
   "outputs": [],
   "source": [
    "for redshift in redshifts:\n",
    "\n",
    "    # Loading data files,\n",
    "    DMD_grids = np.load(f\"N-body_CV\\\\Grids_Mtot_Nbody_IllustrisTNG_CV_256_z={redshift}.npy\", mmap_mode='r')\n",
    "    Ne_grids = np.load(f\"IllustrisTNG_CV\\\\Grids_ne_IllustrisTNG_CV_256_z={redshift}.npy\", mmap_mode='r')\n",
    "    T_grids = np.load(f\"IllustrisTNG_CV\\\\Grids_T_IllustrisTNG_CV_256_z={redshift}.npy\", mmap_mode='r')\n",
    "\n",
    "    # Only considering a single simulation,\n",
    "    j = 0\n",
    "    DMD_grid, Ne_grid, T_grid = DMD_grids[j], Ne_grids[j], T_grids[j]\n",
    "\n",
    "    # Saving as .npy files,\n",
    "    np.save(f\"DMD_grid_z={redshift}.npy\", DMD_grid)\n",
    "    np.save(f\"Ne_grid_z={redshift}.npy\", Ne_grid)\n",
    "    np.save(f\"T_grid_z={redshift}.npy\", T_grid)"
   ]
  }
 ],
 "metadata": {
  "kernelspec": {
   "display_name": "base",
   "language": "python",
   "name": "python3"
  },
  "language_info": {
   "codemirror_mode": {
    "name": "ipython",
    "version": 3
   },
   "file_extension": ".py",
   "mimetype": "text/x-python",
   "name": "python",
   "nbconvert_exporter": "python",
   "pygments_lexer": "ipython3",
   "version": "3.12.7"
  }
 },
 "nbformat": 4,
 "nbformat_minor": 2
}
